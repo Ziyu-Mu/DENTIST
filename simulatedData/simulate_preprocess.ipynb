{
 "cells": [
  {
   "cell_type": "code",
   "execution_count": 47,
   "id": "7d304429-0b7d-4427-8211-b64274b7aa88",
   "metadata": {},
   "outputs": [],
   "source": [
    "import scanpy as sc\n",
    "import anndata\n",
    "from anndata import AnnData\n",
    "import pandas as pd\n",
    "import numpy as np\n",
    "import random\n",
    "import scipy as sci\n",
    "import scipy.sparse as sps\n",
    "import matplotlib as mpl\n",
    "import matplotlib.pyplot as plt\n",
    "#mpl.rcParams['pdf.fonttype'] = 42\n",
    "#mpl.rcParams[\"font.sans-serif\"] = \"Arial\"\n",
    "#%config InlineBackend.figure_format = 'retina'\n",
    "#sc.settings.set_figure_params(dpi=50, dpi_save=300, figsize=(4, 4))\n",
    "from IPython.core.interactiveshell import InteractiveShell\n",
    "InteractiveShell.ast_node_interactivity = \"all\"\n",
    "import warnings\n",
    "warnings.filterwarnings(\"ignore\")"
   ]
  },
  {
   "cell_type": "code",
   "execution_count": 48,
   "id": "d8320121-23ed-481b-b6aa-5142118fe3f8",
   "metadata": {},
   "outputs": [],
   "source": [
    "from functions import calc"
   ]
  },
  {
   "cell_type": "code",
   "execution_count": 52,
   "id": "ce04fa84-1bd2-4f8a-9b97-12b2731e3fd6",
   "metadata": {},
   "outputs": [],
   "source": [
    "import shutil\n",
    "import pickle\n",
    "import os\n",
    "\n",
    "def save(var, name):\n",
    "    if os.path.exists(name+'.pkl'):\n",
    "        os.remove(name+'.pkl')\n",
    "    with open(name+'.pkl', 'wb') as f:\n",
    "        pickle.dump(var, f)\n",
    "        \n",
    "def load(name):\n",
    "    if not os.path.exists(name+'.pkl'):\n",
    "        raise ValueError(name)\n",
    "    with open(name+'.pkl', 'rb') as f:\n",
    "        return pickle.load(f)\n",
    "    \n",
    "def flo2str(n): #删除小数点后多余的0并转换为字符\n",
    "    n = str(n)\n",
    "    if '.' in n:\n",
    "        n = n.rstrip('0')  # 删除小数点后多余的0\n",
    "        if n.endswith('.'):\n",
    "            n = n.rstrip('.')\n",
    "    return n"
   ]
  },
  {
   "cell_type": "markdown",
   "id": "f9c8734f-64d4-46c9-867b-2490595c6499",
   "metadata": {},
   "source": [
    "# generate simulations"
   ]
  },
  {
   "cell_type": "code",
   "execution_count": null,
   "id": "bb0f83fe-a33d-499f-8540-9fd70bd14e53",
   "metadata": {
    "tags": []
   },
   "outputs": [],
   "source": [
    "from copy import deepcopy\n",
    "from janitor import expand_grid\n",
    "from simulations import sim"
   ]
  },
  {
   "cell_type": "code",
   "execution_count": null,
   "id": "1496cc99-d3bd-40ed-83e6-f8294f6fc30c",
   "metadata": {
    "tags": []
   },
   "outputs": [],
   "source": [
    "#sp\n",
    "pth = \"simulations/bm_sp\"\n",
    "dpth = os.path.join(pth,\"data\")\n",
    "rpth = os.path.join(pth,\"results\")\n",
    "mpth = os.path.join(pth,\"models\")\n",
    "# from utils import misc\n",
    "# misc.mkdir_p(dpth) # or use symlink to dropbox\n",
    "# misc.mkdir_p(rpth)\n",
    "# misc.mkdir_p(mpth)\n",
    "\n",
    "# %% define scenarios\n",
    "cfg = {\"sim\":[\"quilt\",\"ggblocks\",\"both\"], \"nside\":36, \"bkg_mean\":0.2,\n",
    "       \"nb_shape\":10.0, \"Jsp\":200, \"Jmix\":0, \"Jns\":0, \"expr_mean\":20.0,\n",
    "       \"seed\":[1,2,3,4,5], \"V\":5}\n",
    "a = expand_grid(others=cfg)\n",
    "col = a.columns\n",
    "a.columns = list(map(lambda x:x[0], col))\n",
    "b = pd.DataFrame({\"sim\":[\"quilt\",\"ggblocks\",\"both\"], \"L\":[4,4,8]})\n",
    "a = a.merge(b,how=\"left\",on=\"sim\")\n",
    "a[\"scenario\"] = list(range(1,a.shape[0]+1))\n",
    "a.to_csv(os.path.join(pth,\"scenarios.csv\"),index=False) #store separately for data generation\n",
    "\n",
    "# %% generate the simulated datasets and store to disk\n",
    "a = pd.read_csv(os.path.join(pth,\"scenarios.csv\")).convert_dtypes()\n",
    "def sim2disk(p):\n",
    "    p = deepcopy(p)\n",
    "    scen = p.pop(\"scenario\")\n",
    "    ad = sim.sim(p[\"sim\"], Lns=0, **p)\n",
    "    ad.write_h5ad(os.path.join(dpth,\"S{}.h5ad\".format(scen)),compression=\"gzip\")\n",
    "a.apply(sim2disk,axis=1)"
   ]
  },
  {
   "cell_type": "code",
   "execution_count": null,
   "id": "04fe12e8-feb8-4717-bd5c-aece1d4c0f92",
   "metadata": {
    "tags": []
   },
   "outputs": [],
   "source": [
    "#mixed\n",
    "pth = \"simulations/bm_mixed\"\n",
    "dpth = os.path.join(pth,\"data\")\n",
    "rpth = os.path.join(pth,\"results\")\n",
    "mpth = os.path.join(pth,\"models\")\n",
    "# from utils import misc\n",
    "# misc.mkdir_p(dpth) # or use symlink to dropbox\n",
    "# misc.mkdir_p(rpth)\n",
    "# misc.mkdir_p(mpth)\n",
    "\n",
    "# %%\n",
    "cfg = {\"sim\":[\"quilt\",\"ggblocks\",\"both\"], \"nside\":36, \"nzprob_nsp\":0.2,\n",
    "       \"bkg_mean\":0.2, \"nb_shape\":10.0,\n",
    "       \"J\":[(250,0,250),(0,500,0)], #\"Jsp\":0, \"Jmix\":500, \"Jns\":0,\n",
    "       \"expr_mean\":20.0, \"mix_frac_spat\":0.6,\n",
    "       \"seed\":[1,2,3,4,5], \"V\":5}\n",
    "a = expand_grid(others=cfg)\n",
    "col = a.columns\n",
    "a.columns = list(map(lambda x:x[0] if x[1]==0 else x[0]+'_'+str(x[1]), col))\n",
    "a.rename(columns={\"J\":\"Jsp\", \"J_1\":\"Jmix\", \"J_2\":\"Jns\"}, inplace=True)\n",
    "b = pd.DataFrame({\"sim\":[\"quilt\",\"ggblocks\",\"both\"],\n",
    "                  \"Lsp\":[4,4,8],\"Lns\":[3,3,6]})\n",
    "a = a.merge(b,how=\"left\",on=\"sim\")\n",
    "a[\"scenario\"] = list(range(1,a.shape[0]+1))\n",
    "a.to_csv(os.path.join(pth,\"scenarios.csv\"),index=False)\n",
    "\n",
    "# %% generate the simulated datasets and store to disk\n",
    "a = pd.read_csv(os.path.join(pth,\"scenarios.csv\")).convert_dtypes()\n",
    "\n",
    "def sim2disk(p):\n",
    "    p = deepcopy(p)\n",
    "    scen = p.pop(\"scenario\")\n",
    "    Lsp = p.pop(\"Lsp\")\n",
    "    ad = sim.sim(p[\"sim\"], **p)\n",
    "    ad.write_h5ad(os.path.join(dpth,\"S{}.h5ad\".format(scen)),compression=\"gzip\")\n",
    "    \n",
    "a.apply(sim2disk,axis=1)"
   ]
  },
  {
   "cell_type": "code",
   "execution_count": null,
   "id": "dd0e2961-2857-4165-bf58-f3fab8b9b01a",
   "metadata": {
    "tags": []
   },
   "outputs": [],
   "source": [
    "from utils import visualize\n",
    "ad = sc.read_h5ad(path.join(dpth,\"S1.h5ad\"))\n",
    "X = ad.obsm[\"spatial\"]\n",
    "Y = ad.layers[\"counts\"]\n",
    "Yn = ad.X\n",
    "visualize.heatmap(X,Y[:,0],cmap=\"Blues\")\n",
    "visualize.heatmap(X,Yn[:,0],cmap=\"Blues\")\n",
    "#check distribution of validation data points\n",
    "N = Y.shape[0]\n",
    "z = np.zeros(N)\n",
    "Ntr = round(0.95*N)\n",
    "z[Ntr:] = 1\n",
    "visualize.heatmap(X,z,cmap=\"Blues\")"
   ]
  },
  {
   "cell_type": "code",
   "execution_count": 98,
   "id": "5869c398-9487-4973-805a-5bb42be7d5a5",
   "metadata": {},
   "outputs": [
    {
     "data": {
      "text/html": [
       "<div>\n",
       "<style scoped>\n",
       "    .dataframe tbody tr th:only-of-type {\n",
       "        vertical-align: middle;\n",
       "    }\n",
       "\n",
       "    .dataframe tbody tr th {\n",
       "        vertical-align: top;\n",
       "    }\n",
       "\n",
       "    .dataframe thead th {\n",
       "        text-align: right;\n",
       "    }\n",
       "</style>\n",
       "<table border=\"1\" class=\"dataframe\">\n",
       "  <thead>\n",
       "    <tr style=\"text-align: right;\">\n",
       "      <th></th>\n",
       "      <th>m</th>\n",
       "      <th>n</th>\n",
       "      <th>o</th>\n",
       "    </tr>\n",
       "  </thead>\n",
       "  <tbody>\n",
       "    <tr>\n",
       "      <th>0</th>\n",
       "      <td>a</td>\n",
       "      <td>b</td>\n",
       "      <td>a</td>\n",
       "    </tr>\n",
       "    <tr>\n",
       "      <th>1</th>\n",
       "      <td>d</td>\n",
       "      <td>c</td>\n",
       "      <td>a</td>\n",
       "    </tr>\n",
       "  </tbody>\n",
       "</table>\n",
       "</div>"
      ],
      "text/plain": [
       "   m  n  o\n",
       "0  a  b  a\n",
       "1  d  c  a"
      ]
     },
     "execution_count": 98,
     "metadata": {},
     "output_type": "execute_result"
    }
   ],
   "source": [
    "a=pd.DataFrame([['a','b','a'],['d','c','a']],columns=['m','n','o'])\n",
    "a"
   ]
  },
  {
   "cell_type": "code",
   "execution_count": 99,
   "id": "ea227752-6935-4095-951f-f0852a79648b",
   "metadata": {},
   "outputs": [
    {
     "data": {
      "text/html": [
       "<div>\n",
       "<style scoped>\n",
       "    .dataframe tbody tr th:only-of-type {\n",
       "        vertical-align: middle;\n",
       "    }\n",
       "\n",
       "    .dataframe tbody tr th {\n",
       "        vertical-align: top;\n",
       "    }\n",
       "\n",
       "    .dataframe thead th {\n",
       "        text-align: right;\n",
       "    }\n",
       "</style>\n",
       "<table border=\"1\" class=\"dataframe\">\n",
       "  <thead>\n",
       "    <tr style=\"text-align: right;\">\n",
       "      <th></th>\n",
       "      <th>m</th>\n",
       "      <th>n</th>\n",
       "      <th>o</th>\n",
       "    </tr>\n",
       "  </thead>\n",
       "  <tbody>\n",
       "    <tr>\n",
       "      <th>0</th>\n",
       "      <td>a</td>\n",
       "      <td>b</td>\n",
       "      <td>k</td>\n",
       "    </tr>\n",
       "    <tr>\n",
       "      <th>1</th>\n",
       "      <td>d</td>\n",
       "      <td>c</td>\n",
       "      <td>k</td>\n",
       "    </tr>\n",
       "  </tbody>\n",
       "</table>\n",
       "</div>"
      ],
      "text/plain": [
       "   m  n  o\n",
       "0  a  b  k\n",
       "1  d  c  k"
      ]
     },
     "execution_count": 99,
     "metadata": {},
     "output_type": "execute_result"
    }
   ],
   "source": [
    "a.loc[a['o']=='a','o']='k'\n",
    "a"
   ]
  },
  {
   "cell_type": "code",
   "execution_count": 6,
   "id": "cbcfdb49-71f8-42d9-9a54-1784419fd293",
   "metadata": {
    "tags": []
   },
   "outputs": [],
   "source": [
    "# choose simulations that have seed 5\n",
    "pattern = ['quilt','ggblock','both']\n",
    "pth = \"simulations/bm_sp/data\"\n",
    "i = 0\n",
    "for scen in [5,10,15]: #序号与pattern一一对应\n",
    "    dpth = os.path.join(pth,\"S{}.h5ad\".format(scen))\n",
    "    npth = os.path.join('./simdata/sp',pattern[i]) #新路径\n",
    "    if not os.path.exists(npth):\n",
    "        os.makedirs(npth)\n",
    "    else:\n",
    "        shutil.rmtree(npth)\n",
    "        os.makedirs(npth)\n",
    "    adata = sc.read_h5ad(dpth)\n",
    "    spatial = adata.obsm['spatial'] #坐标\n",
    "    save(spatial, npth+'/spa')\n",
    "    X = adata.layers['counts'] #原读数\n",
    "    X = np.array(X)\n",
    "    save(X,npth+'/x')\n",
    "    X_norm = median_normalize(X)\n",
    "    X_norm = np.array(X_norm)\n",
    "    save(X_norm,npth+'/xnorm')\n",
    "    \n",
    "    spfac = adata.obsm['spfac'] #F\n",
    "    save(spfac, npth+'/spfac')\n",
    "    spload = adata.varm['spload'] #W\n",
    "    save(spload, npth+'/spload')\n",
    "    i = i + 1\n",
    "    \n",
    "pth = \"simulations/bm_mixed/data\"\n",
    "i = 0\n",
    "for scen in [10,20,30]: #序号与pattern一一对应\n",
    "    dpth = os.path.join(pth,\"S{}.h5ad\".format(scen))\n",
    "    npth = os.path.join('./simdata/mix_1',pattern[i])\n",
    "    if not os.path.exists(npth):\n",
    "        os.makedirs(npth)\n",
    "    else:\n",
    "        shutil.rmtree(npth)\n",
    "        os.makedirs(npth)\n",
    "    adata = sc.read_h5ad(dpth)\n",
    "    spatial = adata.obsm['spatial']#坐标\n",
    "    save(spatial, npth+'/spa')\n",
    "    X = adata.layers['counts'] #原读数\n",
    "    X = np.array(X)\n",
    "    save(X,npth+'/x')\n",
    "    X_norm = median_normalize(X)\n",
    "    X_norm = np.array(X_norm)\n",
    "    save(X_norm,npth+'/xnorm')\n",
    "    \n",
    "    spfac = adata.obsm['spfac'] #F\n",
    "    save(spfac, npth+'/spfac')\n",
    "    spload = adata.varm['spload'] #W\n",
    "    save(spload, npth+'/spload')\n",
    "    nsfac = adata.obsm['nsfac'] #H\n",
    "    save(nsfac, npth+'/nsfac')\n",
    "    nsload = adata.varm['nsload'] #V\n",
    "    save(nsload, npth+'/nsload')\n",
    "    i = i + 1\n",
    "    \n",
    "i = 0\n",
    "for scen in [5,15,25]: #序号与pattern一一对应\n",
    "    dpth = os.path.join(pth,\"S{}.h5ad\".format(scen))\n",
    "    npth = os.path.join('./simdata/mix_2',pattern[i])\n",
    "    if not os.path.exists(npth):\n",
    "        os.makedirs(npth)\n",
    "    else:\n",
    "        shutil.rmtree(npth)\n",
    "        os.makedirs(npth)\n",
    "    adata = sc.read_h5ad(dpth)\n",
    "    spatial = adata.obsm['spatial']#坐标\n",
    "    save(spatial, npth+'/spa')\n",
    "    X = adata.layers['counts'] #原读数\n",
    "    X = np.array(X)\n",
    "    save(X, npth+'/x')\n",
    "    X_norm = median_normalize(X)\n",
    "    X_norm = np.array(X_norm)\n",
    "    save(X_norm, npth+'/xnorm')\n",
    "    \n",
    "    spfac = adata.obsm['spfac'] #F\n",
    "    save(spfac, npth+'/spfac')\n",
    "    spload = adata.varm['spload'] #W\n",
    "    save(spload, npth+'/spload')\n",
    "    nsfac = adata.obsm['nsfac'] #H\n",
    "    save(nsfac, npth+'/nsfac')\n",
    "    nsload = adata.varm['nsload'] #V\n",
    "    save(nsload, npth+'/nsload')\n",
    "    i = i + 1"
   ]
  },
  {
   "cell_type": "markdown",
   "id": "6e978add-477c-47e2-89c0-545042a45349",
   "metadata": {},
   "source": [
    "# path set"
   ]
  },
  {
   "cell_type": "code",
   "execution_count": 60,
   "id": "1bc48971-1e86-47ca-abc2-8b482b0c4fbc",
   "metadata": {},
   "outputs": [],
   "source": [
    "sd_pth = os.path.join(os.getcwd(), 'simdata')\n",
    "scenario = ['sp','mix_1','mix_2']\n",
    "pattern = ['quilt','ggblock','both']"
   ]
  },
  {
   "cell_type": "markdown",
   "id": "016a6c9c-7143-42a6-b198-16241b6b0de2",
   "metadata": {},
   "source": [
    "#### 选取seed=5的模拟数据进行分析\n",
    "# sparsify"
   ]
  },
  {
   "cell_type": "code",
   "execution_count": 7,
   "id": "fe1156c9-565d-4b21-840e-cbfb650e7a5d",
   "metadata": {
    "tags": []
   },
   "outputs": [
    {
     "name": "stdout",
     "output_type": "stream",
     "text": [
      "sp/quilt稀疏度为 0.48137345679012344\n",
      "sp/ggblock稀疏度为 0.6830864197530864\n",
      "sp/both稀疏度为 0.5844714506172839\n",
      "mix_1/quilt稀疏度为 0.3846759259259259\n",
      "mix_1/ggblock稀疏度为 0.5481435185185185\n",
      "mix_1/both稀疏度为 0.4737530864197531\n",
      "mix_2/quilt稀疏度为 0.5687006172839506\n",
      "mix_2/ggblock稀疏度为 0.6709737654320987\n",
      "mix_2/both稀疏度为 0.6224027777777779\n"
     ]
    }
   ],
   "source": [
    "# each subfolder contains sparse 'x','xnorm'\n",
    "for scene in scenario:\n",
    "    for p in pattern:\n",
    "        pth = os.path.join(sd_pth,scene,p)\n",
    "        X = load(pth+'/x') #原始表达\n",
    "        X = sps.csr_matrix(X) #稀疏表示\n",
    "        num = X.shape[0] * X.shape[1]\n",
    "        nonnull = len(X.data) #非0个数\n",
    "        spar = 1 - nonnull / num\n",
    "        print(scene+'/'+p+'稀疏度为', spar)\n",
    "        for spr in [75,85,95]:\n",
    "            spr_pth = os.path.join(pth,str(spr)) #稀疏度\n",
    "            if not os.path.exists(spr_pth):\n",
    "                os.makedirs(spr_pth)\n",
    "            else:\n",
    "                shutil.rmtree(spr_pth)\n",
    "                os.makedirs(spr_pth)\n",
    "            sparse = X.copy()\n",
    "            random.seed(111)\n",
    "            setnull = random.sample(range(nonnull), round(num*(0.01*spr-spar))) #赋0值下标\n",
    "            sparse.data[setnull] = 0.\n",
    "            sparse = np.array(sparse.todense())\n",
    "            save(sparse, spr_pth+'/x')\n",
    "            spr_norm = median_normalize(sparse)\n",
    "            spr_norm = np.array(spr_norm)\n",
    "            save(spr_norm, spr_pth+'/xnorm')"
   ]
  },
  {
   "cell_type": "code",
   "execution_count": null,
   "id": "ef29488d-76d2-443f-ad50-99ee22f7efab",
   "metadata": {},
   "outputs": [],
   "source": [
    "# each subfolder contains 'spa'\n",
    "for scene in scenario:\n",
    "    for p in pattern:\n",
    "        pth = os.path.join(sd_pth,scene,p)\n",
    "        for spr in [75,85,95]:#稀疏度\n",
    "            spr_pth = os.path.join(pth,str(spr))\n",
    "            _= shutil.copy(pth+'/spa.pkl', spr_pth+'/spa.pkl')"
   ]
  },
  {
   "cell_type": "markdown",
   "id": "cb513cb9-a82b-479c-91e5-0c00b3b033f7",
   "metadata": {},
   "source": [
    "# sprod"
   ]
  },
  {
   "cell_type": "code",
   "execution_count": 12,
   "id": "f5eda47b-4450-4656-aad6-d978e4dd4173",
   "metadata": {
    "tags": []
   },
   "outputs": [],
   "source": [
    "for scene in scenario:\n",
    "    for p in pattern:\n",
    "        pth = os.path.join(sd_pth,scene,p)\n",
    "        spatial = load(pth+'/spa') #原始表达\n",
    "        meta = pd.DataFrame(spatial, index=range(spatial.shape[0]), columns=['X','Y'])\n",
    "        for spr in [75,85,95]:\n",
    "            spr_pth = os.path.join(pth,str(spr)) #稀疏度\n",
    "            xnorm = load(spr_pth+'/xnorm')\n",
    "            cts = pd.DataFrame(xnorm, index=range(xnorm.shape[0]), columns=range(xnorm.shape[1]))\n",
    "            inpth = os.path.join(spr_pth,'input')\n",
    "            outpth = os.path.join(spr_pth,'output')\n",
    "            if not os.path.exists(inpth):\n",
    "                os.makedirs(inpth)\n",
    "            else:\n",
    "                shutil.rmtree(inpth)\n",
    "                os.makedirs(inpth)\n",
    "            if not os.path.exists(outpth):\n",
    "                os.makedirs(outpth)\n",
    "            else:\n",
    "                shutil.rmtree(outpth)\n",
    "                os.makedirs(outpth)\n",
    "            meta.to_csv(inpth+'/Spot_metadata.csv')\n",
    "            cts.to_csv(inpth+'/Counts.txt',sep='\\t')"
   ]
  },
  {
   "cell_type": "code",
   "execution_count": null,
   "id": "ca2ada78-3563-4736-80ba-2d8b12607e61",
   "metadata": {},
   "outputs": [],
   "source": [
    "# python sprod.py inpth outpth\n",
    "# python sprod.py inpth outpth -ws -ag"
   ]
  },
  {
   "cell_type": "code",
   "execution_count": 5,
   "id": "9f47f9e9-f876-4c6a-908e-e8d7db8a9058",
   "metadata": {
    "tags": []
   },
   "outputs": [],
   "source": [
    "for scene in scenario:\n",
    "    for p in pattern:\n",
    "        pth = os.path.join(sd_pth,scene,p)\n",
    "        for spr in [75,85,95]:#稀疏度\n",
    "            spr_pth = os.path.join(pth,str(spr))\n",
    "            sprod_pth = os.path.join(spr_pth, 'output')\n",
    "            xsprod = pd.read_csv(sprod_pth+'/sprod_Denoised_matrix.txt', sep='\\t', index_col=0)\n",
    "            xsprod = xsprod.to_numpy()\n",
    "            save(xsprod, spr_pth+'/xsprod')"
   ]
  },
  {
   "cell_type": "markdown",
   "id": "8b8b50b0-e368-4243-82ec-25d40fbd0584",
   "metadata": {},
   "source": [
    "# wedge"
   ]
  },
  {
   "cell_type": "code",
   "execution_count": 38,
   "id": "bbce92a8-3967-4f4b-84ff-1e20fcb52a2f",
   "metadata": {
    "tags": []
   },
   "outputs": [],
   "source": [
    "#csv\n",
    "wdg_pth = '/home/qukun/muziyu/wdg'\n",
    "i = 0\n",
    "for scene in scenario:\n",
    "    for p in pattern:\n",
    "        pth = os.path.join(sd_pth,scene,p)\n",
    "        for spr in [75,85,95]:\n",
    "            spr_pth = os.path.join(pth,str(spr)) #稀疏度\n",
    "            xnorm = load(spr_pth+'/xnorm')\n",
    "            index = list(map(lambda x:'gene'+str(x),range(xnorm.shape[1])))\n",
    "            col = list(map(lambda x:'cell'+str(x),range(xnorm.shape[0])))\n",
    "            cts = pd.DataFrame(xnorm.T, index=index, columns=col)\n",
    "            cts.to_csv(wdg_pth+'/'+str(spr)+scene[0]+scene[-1]+p[0]+'.csv',sep=',')"
   ]
  },
  {
   "cell_type": "code",
   "execution_count": 46,
   "id": "5450d026-bf66-4537-b4d0-86afe9ee5901",
   "metadata": {},
   "outputs": [],
   "source": [
    "#result\n",
    "wdg_pth = '/home/qukun/muziyu/sprod_data/sim/wedge/'\n",
    "for scene in scenario:\n",
    "    for p in pattern:\n",
    "        for spr in [75,85,95]:\n",
    "            d_pth = os.path.join(wdg_pth,scene[0]+scene[-1]+p[0],str(spr))\n",
    "            spr_pth = os.path.join(sd_pth,scene,p,str(spr))\n",
    "            W = pd.read_csv(d_pth+'W.csv', header=None)\n",
    "            W = W.to_numpy()\n",
    "            H = pd.read_csv(d_pth+'H.csv', header=None)\n",
    "            H = H.to_numpy()\n",
    "            rk_wdg = W.shape[1]\n",
    "            save(rk_wdg, spr_pth+'/rk_wdg')\n",
    "            xwedge = np.dot(W, H)\n",
    "            save(xwedge.T, spr_pth+'/xwedge')"
   ]
  },
  {
   "cell_type": "markdown",
   "id": "3b424bf3-91e4-48f1-9756-f49d0c3f8ef6",
   "metadata": {},
   "source": [
    "# similarity matrix"
   ]
  },
  {
   "cell_type": "code",
   "execution_count": null,
   "id": "44f4a425-1f72-449c-8e0c-5faf21903452",
   "metadata": {
    "tags": []
   },
   "outputs": [],
   "source": [
    "#SNN\n",
    "for scene in scenario:\n",
    "    for p in pattern:\n",
    "        pth = os.path.join(sd_pth,scene,p)\n",
    "        for spr in [75,85,95]:#稀疏度\n",
    "            spr_pth = os.path.join(pth,str(spr))\n",
    "            xnorm = load(spr_pth+'/xnorm')\n",
    "            sim = calc.SNN(xnorm)\n",
    "            save(sim, spr_pth+'/sSNN') #'./simdata/mix_1/quilt/75/sim.pkl'"
   ]
  },
  {
   "cell_type": "code",
   "execution_count": 9,
   "id": "22eb2d3a-4f95-4e82-8295-39f086eb05b6",
   "metadata": {
    "tags": []
   },
   "outputs": [],
   "source": [
    "#SPR\n",
    "for scene in scenario:\n",
    "    for p in pattern:\n",
    "        pth = os.path.join(sd_pth,scene,p)\n",
    "        for spr in [75,85,95]:#稀疏度\n",
    "            spr_pth = os.path.join(pth,str(spr))\n",
    "            sim_sr = pd.read_csv(spr_pth+'/output/sprod_Detected_graph.txt', sep='\\t')\n",
    "            sim_sr = sim_sr.to_numpy()\n",
    "            save(sim_sr, spr_pth+'/sSPR')"
   ]
  },
  {
   "cell_type": "markdown",
   "id": "78d88c62-53a8-404c-b50f-d2e1d1d712d5",
   "metadata": {},
   "source": [
    "# dimension check"
   ]
  },
  {
   "cell_type": "code",
   "execution_count": 9,
   "id": "88a00d07-c2ca-4cb0-a0b1-e9d2ce1b6265",
   "metadata": {
    "tags": []
   },
   "outputs": [
    {
     "name": "stdout",
     "output_type": "stream",
     "text": [
      "quilt\n",
      "     75 : 4 4\n",
      "     85 : 4 4\n",
      "     95 : 3 3\n",
      "ggblock\n",
      "     75 : 4 4\n",
      "     85 : 4 4\n",
      "     95 : 4 4\n",
      "both\n",
      "     75 : 8 8\n",
      "     85 : 8 7\n",
      "     95 : 3 2\n"
     ]
    }
   ],
   "source": [
    "scene = 'sp'\n",
    "\n",
    "print('        wedge','alra')\n",
    "for p in pattern:\n",
    "    print(p)\n",
    "    pth = os.path.join(sd_pth,scene,p)\n",
    "    for spr in [75,85,95]:\n",
    "        spr_pth = os.path.join(pth,str(spr)) #稀疏度\n",
    "        xnorm = load(spr_pth+'/xnorm')\n",
    "        dim_w, dim_a = calc.rank_w_a(xnorm)\n",
    "        save(dim_w, spr_pth+'/dim_wedge')\n",
    "        save(dim_a, spr_pth+'/dim_alra')\n",
    "        print('    ',spr,':', dim_w, dim_a)"
   ]
  },
  {
   "cell_type": "code",
   "execution_count": 10,
   "id": "b98ba5f8-72b4-41ef-8674-0af591c62e0d",
   "metadata": {
    "tags": []
   },
   "outputs": [
    {
     "name": "stdout",
     "output_type": "stream",
     "text": [
      "quilt\n",
      "     75 : 6 6\n",
      "     85 : 6 6\n",
      "     95 : 3 3\n",
      "ggblock\n",
      "     75 : 6 6\n",
      "     85 : 6 6\n",
      "     95 : 6 6\n",
      "both\n",
      "     75 : 4 13\n",
      "     85 : 4 13\n",
      "     95 : 3 1\n"
     ]
    }
   ],
   "source": [
    "scene = 'mix_1'\n",
    "\n",
    "print('        wedge','alra')\n",
    "for p in pattern:\n",
    "    print(p)\n",
    "    pth = os.path.join(sd_pth,scene,p)\n",
    "    for spr in [75,85,95]:\n",
    "        spr_pth = os.path.join(pth,str(spr)) #稀疏度\n",
    "        xnorm = load(spr_pth+'/xnorm')\n",
    "        dim_w, dim_a = calc.rank_w_a(xnorm)\n",
    "        save(dim_w, spr_pth+'/dim_wedge')\n",
    "        save(dim_a, spr_pth+'/dim_alra')\n",
    "        print('    ',spr,':', dim_w, dim_a)"
   ]
  },
  {
   "cell_type": "code",
   "execution_count": 11,
   "id": "0a5a1885-2461-41a5-945d-481f067cc265",
   "metadata": {
    "tags": []
   },
   "outputs": [
    {
     "name": "stdout",
     "output_type": "stream",
     "text": [
      "quilt\n",
      "     75 : 7 7\n",
      "     85 : 7 7\n",
      "     95 : 6 2\n",
      "ggblock\n",
      "     75 : 7 7\n",
      "     85 : 7 7\n",
      "     95 : 7 7\n",
      "both\n",
      "     75 : 10 14\n",
      "     85 : 10 14\n",
      "     95 : 3 2\n"
     ]
    }
   ],
   "source": [
    "scene = 'mix_2'\n",
    "\n",
    "print('        wedge','alra')\n",
    "for p in pattern:\n",
    "    print(p)\n",
    "    pth = os.path.join(sd_pth,scene,p)\n",
    "    for spr in [75,85,95]:\n",
    "        spr_pth = os.path.join(pth,str(spr)) #稀疏度\n",
    "        xnorm = load(spr_pth+'/xnorm')\n",
    "        dim_w, dim_a = calc.rank_w_a(xnorm)\n",
    "        save(dim_w, spr_pth+'/dim_wedge')\n",
    "        save(dim_a, spr_pth+'/dim_alra')\n",
    "        print('    ',spr,':', dim_w, dim_a)"
   ]
  },
  {
   "cell_type": "code",
   "execution_count": 20,
   "id": "2ea4babe-aea3-4785-9cff-84ac2dd1371b",
   "metadata": {},
   "outputs": [],
   "source": [
    "for scene in scenario:\n",
    "    for p in pattern:\n",
    "        pth = os.path.join(sd_pth,scene,p)\n",
    "        for spr in [75,85,95]:\n",
    "            spr_pth = os.path.join(pth,str(spr))\n",
    "            calc.svdSIGdif_plot(spr_pth, dname='-'+str(spr)+'%-'+scene+'-'+p)"
   ]
  },
  {
   "cell_type": "markdown",
   "id": "db8ac804-55d4-4402-a82c-28bbd24e6d30",
   "metadata": {},
   "source": [
    "# set parameters"
   ]
  },
  {
   "cell_type": "code",
   "execution_count": 17,
   "id": "b0e2834d-bd45-4243-9a3f-236092c78032",
   "metadata": {},
   "outputs": [],
   "source": [
    "lamb = 10\n",
    "similarity = ['SNN','SPR']\n",
    "multiple = [1, 2, 3, 5]\n",
    "initial = ['grdtr','rand','nmf','nndsvd','wdgsvd','tcdsvd']"
   ]
  },
  {
   "cell_type": "markdown",
   "id": "4cdda8e7-1aea-47e2-9d30-98280361565e",
   "metadata": {},
   "source": [
    "## statistics"
   ]
  },
  {
   "cell_type": "code",
   "execution_count": 18,
   "id": "f167e383-58e9-4ed7-8087-014713fc5fda",
   "metadata": {
    "tags": []
   },
   "outputs": [],
   "source": [
    "for scene in scenario:\n",
    "    for p in pattern:\n",
    "        pth = os.path.join(sd_pth,scene,p)\n",
    "        xnorm = load(pth+'/xnorm')\n",
    "        ori_cell_cor = np.corrcoef(xnorm)\n",
    "        ori_gene_cor = np.corrcoef(xnorm.T)\n",
    "        for spr in [75,85,95]:#稀疏度\n",
    "            spr_pth = os.path.join(pth,str(spr))\n",
    "            dim_w = load(spr_pth+'/dim_wedge')\n",
    "            if spr == 95:\n",
    "                weight = [0.1, 0.2, 0.5]\n",
    "            else:\n",
    "                weight = [0.2, 0.5, 0.7]\n",
    "            for w in weight:\n",
    "                file = 'w'+flo2str(w)+'-l'+flo2str(lamb)\n",
    "                for m in multiple:\n",
    "                    dim = min(dim_w * m, 30)\n",
    "                    for init in initial:\n",
    "                        for sim in similarity:\n",
    "                            res_pth = os.path.join(spr_pth,'result',init,file+'-d'+flo2str(dim),sim)\n",
    "                            X = load(res_pth+'/x_'+sim)\n",
    "                            stat_pth = os.path.join(res_pth, 'statistics')\n",
    "                            if not os.path.exists(stat_pth):\n",
    "                                os.makedirs(stat_pth)\n",
    "                            \n",
    "                            if os.path.exists(stat_pth+'/pcc_cell_'+sim+'.pkl'):\n",
    "                                continue\n",
    "                            pcc_cell, pcc_p_cell = calc.PCC(xnorm, X)\n",
    "                            pcc_gene, pcc_p_gene = calc.PCC(xnorm.T, X.T)\n",
    "                            save(pcc_cell, stat_pth+'/pcc_cell_'+sim)\n",
    "                            save(pcc_p_cell, stat_pth+'/pcc_p_cell_'+sim)\n",
    "                            save(pcc_gene, stat_pth+'/pcc_gene_'+sim)\n",
    "                            save(pcc_p_gene, stat_pth+'/pcc_p_gene_'+sim)\n",
    "                        \n",
    "                            wdg_cell_cor = np.corrcoef(X)\n",
    "                            wdg_gene_cor = np.corrcoef(X.T)\n",
    "                            CMD_cell = calc.CMD(ori_cell_cor, wdg_cell_cor)\n",
    "                            save(CMD_cell, stat_pth+'/cmd_cell_'+sim)\n",
    "                            CMD_gene = calc.CMD(ori_gene_cor, wdg_gene_cor)\n",
    "                            save(CMD_gene, stat_pth+'/cmd_gene_'+sim)"
   ]
  },
  {
   "cell_type": "raw",
   "id": "022a3512-891e-4912-bf36-942da30b84d8",
   "metadata": {
    "jupyter": {
     "source_hidden": true
    },
    "tags": []
   },
   "source": [
    "# time\n",
    "time_dict = {}\n",
    "for sim in similarity:\n",
    "    time_dict_sim = {}\n",
    "    for init in initial:\n",
    "        runTime = []\n",
    "        for scene in scenario:\n",
    "            for p in pattern:\n",
    "                pth = os.path.join(sd_pth,scene,p)\n",
    "                for spr in [75,85,95]:#稀疏度\n",
    "                    spr_pth = os.path.join(pth,str(spr))\n",
    "                    if spr==95:\n",
    "                        wlist = [0.1, 0.2, 0.5]\n",
    "                    else:\n",
    "                        wlist = [0.2, 0.5, 0.7]\n",
    "                    dim_w = load(spr_pth+'/dim_wedge')\n",
    "                    dlist = list(map(lambda x:min(dim_w * x, 30), multiple))\n",
    "                    for w in wlist:\n",
    "                        for d in dlist:\n",
    "                            file = 'w'+flo2str(w)+'-l'+flo2str(lamb)+'-d'+flo2str(d)\n",
    "                            res_pth = os.path.join(spr_pth, 'result', init, file, sim)\n",
    "                            rt = load(res_pth+'/time_'+sim)\n",
    "                            runTime.append(rt)\n",
    "        time_dict_sim[init] = np.mean(runTime) \n",
    "    time_dict[sim] = time_dict_sim\n",
    "save(time_dict,sd_pth+'/time')"
   ]
  },
  {
   "cell_type": "code",
   "execution_count": 54,
   "id": "54e9bd75-047c-47c4-995d-1fa907b1ab38",
   "metadata": {},
   "outputs": [],
   "source": [
    "#wedge&sprod&sparse\n",
    "for scene in scenario:\n",
    "    for p in pattern:\n",
    "        pth = os.path.join(sd_pth,scene,p)\n",
    "        xnorm = load(pth+'/xnorm')\n",
    "        ori_cell_cor = np.corrcoef(xnorm)\n",
    "        ori_gene_cor = np.corrcoef(xnorm.T)\n",
    "        for spr in [75,85,95]:#稀疏度\n",
    "            spr_pth = os.path.join(pth,str(spr))\n",
    "            dim_w = load(spr_pth+'/dim_wedge')\n",
    "            if os.path.exists(spr_pth+'/xnorm.pkl'):\n",
    "                os.rename(spr_pth+'/xnorm.pkl',spr_pth+'/xsparse.pkl')\n",
    "            for method in ['sprod','wedge','sparse']:\n",
    "                X = load(spr_pth+'/x'+method)\n",
    "                stat_pth = os.path.join(spr_pth, 'statistics', method)\n",
    "                if not os.path.exists(stat_pth):\n",
    "                    os.makedirs(stat_pth)\n",
    "                pcc_cell, pcc_p_cell = calc.PCC(xnorm, X)\n",
    "                pcc_gene, pcc_p_gene = calc.PCC(xnorm.T, X.T)\n",
    "                save(pcc_cell, stat_pth+'/pcc_cell_'+method)\n",
    "                save(pcc_p_cell, stat_pth+'/pcc_p_cell_'+method)\n",
    "                save(pcc_gene, stat_pth+'/pcc_gene_'+method)\n",
    "                save(pcc_p_gene, stat_pth+'/pcc_p_gene_'+method)\n",
    "                wdg_cell_cor = np.corrcoef(X)\n",
    "                wdg_gene_cor = np.corrcoef(X.T)\n",
    "                CMD_cell = calc.CMD(ori_cell_cor, wdg_cell_cor)\n",
    "                save(CMD_cell, stat_pth+'/cmd_cell_'+method)\n",
    "                CMD_gene = calc.CMD(ori_gene_cor, wdg_gene_cor)\n",
    "                save(CMD_gene, stat_pth+'/cmd_gene_'+method)"
   ]
  },
  {
   "cell_type": "code",
   "execution_count": 61,
   "id": "624cc973-f63c-4d61-99df-7aadc8755d16",
   "metadata": {},
   "outputs": [],
   "source": [
    "best_dict = {'sp/quilt':{'75':'w'+flo2str(0.5)+'-d'+flo2str(12),\n",
    "                         '85':'w'+flo2str(0.5)+'-d'+flo2str(8),\n",
    "                         '95':'w'+flo2str(0.1)+'-d'+flo2str(6)},\n",
    "             'mix_1/ggblock':{'75':'w'+flo2str(0.5)+'-d'+flo2str(12),\n",
    "                         '85':'w'+flo2str(0.5)+'-d'+flo2str(12),\n",
    "                         '95':'w'+flo2str(0.2)+'-d'+flo2str(6)},\n",
    "             'mix_2/both':{'75':'w'+flo2str(0.5)+'-d'+flo2str(30),\n",
    "                         '85':'w'+flo2str(0.5)+'-d'+flo2str(20),\n",
    "                         '95':'w'+flo2str(0.2)+'-d'+flo2str(15)},}"
   ]
  },
  {
   "cell_type": "code",
   "execution_count": 64,
   "id": "3f5d4437-ce89-494d-a347-a66d966f4e17",
   "metadata": {},
   "outputs": [],
   "source": [
    "lambdas = [5,18,25,30]\n",
    "sim = 'SPR'\n",
    "\n",
    "for lamb in lambdas:\n",
    "    for key, value in best_dict.items():\n",
    "        pth = os.path.join(sd_pth,key)\n",
    "        xnorm = load(pth+'/xnorm')\n",
    "        ori_cell_cor = np.corrcoef(xnorm)\n",
    "        ori_gene_cor = np.corrcoef(xnorm.T)\n",
    "        for k, v in value.items():\n",
    "            spr_pth = os.path.join(pth,k)\n",
    "            res_pth = os.path.join(spr_pth, 'result', v, 'l'+flo2str(lamb))\n",
    "            X = load(res_pth+'/x_'+sim)\n",
    "            stat_pth = os.path.join(res_pth, 'statistics')\n",
    "            if not os.path.exists(stat_pth):\n",
    "                os.makedirs(stat_pth)\n",
    "            pcc_cell, pcc_p_cell = calc.PCC(xnorm, X)\n",
    "            pcc_gene, pcc_p_gene = calc.PCC(xnorm.T, X.T)\n",
    "            save(pcc_cell, stat_pth+'/pcc_cell_'+sim)\n",
    "            save(pcc_p_cell, stat_pth+'/pcc_p_cell_'+sim)\n",
    "            save(pcc_gene, stat_pth+'/pcc_gene_'+sim)\n",
    "            save(pcc_p_gene, stat_pth+'/pcc_p_gene_'+sim)\n",
    "            wdg_cell_cor = np.corrcoef(X)\n",
    "            wdg_gene_cor = np.corrcoef(X.T)\n",
    "            CMD_cell = calc.CMD(ori_cell_cor, wdg_cell_cor)\n",
    "            save(CMD_cell, stat_pth+'/cmd_cell_'+sim)\n",
    "            CMD_gene = calc.CMD(ori_gene_cor, wdg_gene_cor)\n",
    "            save(CMD_gene, stat_pth+'/cmd_gene_'+sim)"
   ]
  },
  {
   "cell_type": "markdown",
   "id": "f3fa5c58-550e-49de-8708-9614364952ae",
   "metadata": {},
   "source": [
    "# svd"
   ]
  },
  {
   "cell_type": "code",
   "execution_count": null,
   "id": "4cea22c4-31c7-4136-ba48-9bbff0bf8c3f",
   "metadata": {
    "tags": []
   },
   "outputs": [],
   "source": [
    "sd_pth = './simdata'\n",
    "scenario = ['sp','mix_1','mix_2']\n",
    "pattern = ['quilt','ggblock','both']\n",
    "\n",
    "for scene in scenario:\n",
    "    for p in pattern:\n",
    "        pth = os.path.join(sd_pth,scene,p)\n",
    "        for spr in [75,85,95]:\n",
    "            spr_pth = os.path.join(pth,str(spr))\n",
    "            xnorm = load(spr_pth+'/xnorm')\n",
    "            u,s,v = np.linalg.svd(xnorm)\n",
    "            save(u, spr_pth+'/u')\n",
    "            save(s, spr_pth+'/sig')\n",
    "            save(v, spr_pth+'/vt')"
   ]
  },
  {
   "cell_type": "code",
   "execution_count": 78,
   "id": "b6799b28-7895-4269-86de-1eeb9deced3c",
   "metadata": {
    "tags": []
   },
   "outputs": [],
   "source": [
    "def svd_heatmap(klist, scenario='sp', pattern='quilt', gene=0):\n",
    "    '''\n",
    "    klist: dimension for reduction\n",
    "    scenario: sp, mix_1, or mix_2\n",
    "    pattern: quilt, ggblock, or both\n",
    "    '''\n",
    "    sd_pth = './simdata'\n",
    "    pth = os.path.join(sd_pth,scenario,pattern)\n",
    "    spatial = load(pth+'/spa')\n",
    "    file = 'svd'\n",
    "    \n",
    "    ppth = os.path.join(pth,'oripic')\n",
    "    if not os.path.exists(ppth):\n",
    "        os.makedirs(ppth)\n",
    "    pic_pth = ppth+'/g'+str(gene)+'.png'\n",
    "    if os.path.exists(pic_pth):\n",
    "        import matplotlib.image as mpimg # mpimg 用于读取图片\n",
    "        img = mpimg.imread(pic_pth)\n",
    "        t=plt.figure(figsize=(3,2))\n",
    "        t=plt.imshow(img)\n",
    "        t=plt.axis('off')\n",
    "    else:\n",
    "        fig,ax=plt.subplots(figsize=(3,2))\n",
    "        t=ax.set_facecolor('gray')\n",
    "        t=ax.scatter(spatial[:,0],spatial[:,1],c=xori[:,gene],cmap='Blues',s=8)\n",
    "        if not os.path.exists(pic_pth):\n",
    "            plt.savefig(pic_pth.rstrip('.png') ) #'./simdata/sp/block/g0.png'\n",
    "        fig.show()\n",
    "    \n",
    "    row = len(klist) + 1\n",
    "    fig,ax=plt.subplots(row, 3, figsize=(10, int(round(row*2.5))), sharex=True, sharey=True)\n",
    "    fig.suptitle(scenario+'-'+pattern+'-'+file+'-g'+str(gene))\n",
    "    j = 0\n",
    "    for spr in [75,85,95]:#稀疏度\n",
    "        spr_pth = os.path.join(pth,str(spr))\n",
    "        res_pth = os.path.join(spr_pth, file)\n",
    "        xnorm = load(spr_pth+'/xnorm')\n",
    "        u = load(spr_pth+'/u')\n",
    "        sig = load(spr_pth+'/sig')\n",
    "        vt = load(spr_pth+'/vt')\n",
    "        sort = np.argsort(-sig)\n",
    "        sig = sig[sort]\n",
    "        if j == 0:\n",
    "            t=ax[0][j].set_ylabel('sparse data')\n",
    "        t=ax[0][j].set_title(str(spr)+'%')\n",
    "        t=ax[0][j].set_facecolor('gray')\n",
    "        t=ax[0][j].scatter(spatial[:,0],spatial[:,1],c=xnorm[:,gene],cmap='Blues',s=16)\n",
    "        i = 1\n",
    "        for k in klist:\n",
    "            sortk = sort[:k]\n",
    "            uk = u[:,sortk]\n",
    "            sigk = np.diag(sig[:k])\n",
    "            vtk = vt[sortk,:]\n",
    "            xsvd = np.dot(uk, sigk.dot(vtk))\n",
    "            if j == 0:\n",
    "                t=ax[i][j].set_ylabel('svd '+ str(k))\n",
    "            t=ax[i][j].set_facecolor('gray')\n",
    "            t=ax[i][j].scatter(spatial[:,0],spatial[:,1],c=xsvd[:,gene],cmap='Blues',s=16)\n",
    "            i = i + 1\n",
    "        j = j + 1\n",
    "    plt.tight_layout(h_pad=0.1, w_pad=0.1)\n",
    "    \n",
    "    ppth = os.path.join(pth, file)\n",
    "    if not os.path.exists(ppth):\n",
    "        os.makedirs(ppth)\n",
    "    pic_pth = ppth+'/g'+str(gene)+'.png'\n",
    "    if os.path.exists(pic_pth):\n",
    "        os.remove(pic_pth)\n",
    "    plt.savefig(pic_pth.rstrip('.png')) #'./simdata/sp/block/85/w_0-lam_10/g0'\n",
    "    fig.show()"
   ]
  },
  {
   "cell_type": "code",
   "execution_count": null,
   "id": "ec5bb8f7-f17e-45b0-88db-1d8ddbe97828",
   "metadata": {
    "tags": []
   },
   "outputs": [],
   "source": [
    "klist = [2, 4, 8, 20, 50]\n",
    "pattern = ['quilt','ggblock','both']\n",
    "for p in pattern:\n",
    "    for gene in [0,96,129]:\n",
    "        svd_heatmap(klist=klist, scenario='sp', pattern=p, gene=gene)"
   ]
  },
  {
   "cell_type": "code",
   "execution_count": null,
   "id": "433bd2c5-4379-4a64-9390-d1a383c755ac",
   "metadata": {
    "tags": []
   },
   "outputs": [],
   "source": [
    "klist = [2, 4, 6, 13, 50]\n",
    "pattern = ['quilt','ggblock','both']\n",
    "for p in pattern:\n",
    "    for gene in [0,96,129]:\n",
    "        svd_heatmap(klist=klist, scenario='mix_1', pattern=p, gene=gene)"
   ]
  },
  {
   "cell_type": "code",
   "execution_count": null,
   "id": "d07b78e5-6599-4668-8eb4-ec5df52ed76b",
   "metadata": {
    "tags": []
   },
   "outputs": [],
   "source": [
    "klist = [2, 4, 7, 14, 50]\n",
    "pattern = ['quilt','ggblock','both']\n",
    "for p in pattern:\n",
    "    for gene in [0,96,129]:\n",
    "        svd_heatmap(klist=klist, scenario='mix_2', pattern=p, gene=gene)"
   ]
  }
 ],
 "metadata": {
  "kernelspec": {
   "display_name": "python3-sprod",
   "language": "python",
   "name": "python3-sprod"
  },
  "language_info": {
   "codemirror_mode": {
    "name": "ipython",
    "version": 3
   },
   "file_extension": ".py",
   "mimetype": "text/x-python",
   "name": "python",
   "nbconvert_exporter": "python",
   "pygments_lexer": "ipython3",
   "version": "3.7.12"
  }
 },
 "nbformat": 4,
 "nbformat_minor": 5
}
